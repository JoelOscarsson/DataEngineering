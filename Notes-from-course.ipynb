{
 "cells": [
  {
   "cell_type": "markdown",
   "metadata": {},
   "source": [
    "# Notering\n",
    "\n",
    "\n",
    "1. Jag kan skapa .py filer i olika folders och köra från samma dockerfile, (Dockerfile behöver inte ligga i samma mapp som .py filerna) (syftet är att kunna köra från samma dockerfile flera olika .py filer som ligger i flera olika mappar)\n",
    "\n",
    "2. .sh filen kan man skriva direkt i terminal eller som en egen fil. Denna gör olika saker som t ex titta vilka paket som är installerad (nu ser den ut så). Man ska också kunna köra andra"
   ]
  },
  {
   "cell_type": "code",
   "execution_count": null,
   "metadata": {},
   "outputs": [],
   "source": [
    "prompt \" I want to understand the relationship between .sh , .py  and dockerfile and how i run different scripts from different folders in a docker container\"\n"
   ]
  }
 ],
 "metadata": {
  "kernelspec": {
   "display_name": "venv",
   "language": "python",
   "name": "python3"
  },
  "language_info": {
   "name": "python",
   "version": "3.9.13"
  },
  "orig_nbformat": 4
 },
 "nbformat": 4,
 "nbformat_minor": 2
}
