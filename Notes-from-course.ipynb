{
 "cells": [
  {
   "cell_type": "markdown",
   "metadata": {},
   "source": [
    "# Notering\n",
    "\n",
    "## Jag har en .py fil som skapar en .log fil med några datum\n",
    "## Jag vill få den att bli schedulad med hjälp av cronjob, så den kan köras i docker containerns root t ex var annan minut. \n",
    "## För att jag ska åstadkomma detta så måste pathingen se korrekt ut överallt från dockerfilen. \n",
    "\n",
    "# Måste jag lägga in nya paket i dockerfilen som nya paket ?\n",
    "\n",
    "## Fråga imorgon om dockerfilen och om den kopierar korrekt.\n",
    "\n",
    "1. Jag kan skapa .py filer i olika folders och köra från samma dockerfile, (Dockerfile behöver inte ligga i samma mapp som .py filerna) (syftet är att kunna köra från samma dockerfile flera olika .py filer som ligger i flera olika mappar)\n",
    "\n",
    "2. .sh filen kan man skriva direkt i terminal eller som en egen fil. Denna gör olika saker som t ex titta vilka paket som är installerad (nu ser den ut så). Man ska också kunna köra andra"
   ]
  },
  {
   "cell_type": "code",
   "execution_count": null,
   "metadata": {
    "vscode": {
     "languageId": "plaintext"
    }
   },
   "outputs": [],
   "source": [
    "prompt \" I want to understand the relationship between .sh , .py  and dockerfile and how i run different scripts from different folders in a docker container\"\n"
   ]
  }
 ],
 "metadata": {
  "language_info": {
   "name": "python"
  },
  "orig_nbformat": 4
 },
 "nbformat": 4,
 "nbformat_minor": 2
}
