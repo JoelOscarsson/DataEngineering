{
 "cells": [
  {
   "cell_type": "markdown",
   "metadata": {},
   "source": [
    "# Notering\n",
    "\n",
    "\n",
    "\n",
    "## Fråga imorgon om dockerfilen och om den kopierar korrekt.\n",
    "\n",
    "1. Jag kan skapa .py filer i olika folders och köra från samma dockerfile, (Dockerfile behöver inte ligga i samma mapp som .py filerna) (syftet är att kunna köra från samma dockerfile flera olika .py filer som ligger i flera olika mappar)\n",
    "\n",
    "2. .sh filen kan man skriva direkt i terminal eller som en egen fil. Denna gör olika saker som t ex titta vilka paket som är installerad (nu ser den ut så). Man ska också kunna köra andra"
   ]
  },
  {
   "cell_type": "code",
   "execution_count": null,
   "metadata": {
    "vscode": {
     "languageId": "plaintext"
    }
   },
   "outputs": [],
   "source": [
    "prompt \" I want to understand the relationship between .sh , .py  and dockerfile and how i run different scripts from different folders in a docker container\"\n"
   ]
  }
 ],
 "metadata": {
  "language_info": {
   "name": "python"
  },
  "orig_nbformat": 4
 },
 "nbformat": 4,
 "nbformat_minor": 2
}
