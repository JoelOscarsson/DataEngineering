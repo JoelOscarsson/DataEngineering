{
 "cells": [
  {
   "cell_type": "markdown",
   "metadata": {},
   "source": [
    "## Initialize DVC\n",
    "\n",
    "The DVC commands are very similar to git commands. For example, instead of running git add, you will run dvc add. This makes it pretty easy to get started with dvc if you're familiar with git.\n",
    "\n",
    "First you should change directory to this exercise folder. cd path/to/Exercise7-dvc.\n",
    "Execute the command dvc init --subdir to initialize DVC.\n",
    "Note that the command created a .dvc folder. It's hidden so you might not be able to see it by default. ls -la will list all files, even hidden ones. Open that folder and look what's inside of the folder. We will look at it again later in the exercise.\n",
    "Initialize remote storage\n",
    "\n",
    "We will now create a backup of our data so that it won't get lost in case of an accident.\n",
    "\n",
    "Typically one would create this backup in the cloud so that it's easily shared with teammates. We will create this backup in the Exercise7-dvc/fake_cloud_storage/ directory to avoid any costs and complexity of using a cloud solution.\n",
    "\n",
    "dvc remote add -d myremote /path/to/Exercise7-dvc/fake_cloud_storage/.\n",
    "Open the .dvc/config file to inspect what changed."
   ]
  },
  {
   "cell_type": "markdown",
   "metadata": {},
   "source": [
    "# Initialize remote storage\n",
    "\n",
    "We will now create a backup of our data so that it won't get lost in case of an accident.\n",
    "\n",
    "Typically one would create this backup in the cloud so that it's easily shared with teammates. We will create this backup in the Exercise7-dvc/fake_cloud_storage/ directory to avoid any costs and complexity of using a cloud solution.\n",
    "\n",
    "dvc remote add -d myremote /path/to/Exercise7-dvc/fake_cloud_storage/.\n",
    "Open the .dvc/config file to inspect what changed."
   ]
  }
 ],
 "metadata": {
  "language_info": {
   "name": "python"
  },
  "orig_nbformat": 4
 },
 "nbformat": 4,
 "nbformat_minor": 2
}
