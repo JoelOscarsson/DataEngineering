{
 "cells": [
  {
   "cell_type": "code",
   "execution_count": 7,
   "metadata": {},
   "outputs": [],
   "source": [
    "from pyscbwrapper import SCB\n",
    "import json\n",
    "\n",
    "scb = SCB('sv')\n",
    "# data = json.loads(scb)\n",
    "\n",
    "\n",
    "obj_type = type(scb)\n",
    "attr = dir(scb)\n",
    "scb_obj = scb\n",
    "# help(scb_obj)\n",
    "# print(obj_type)\n",
    "\n",
    "# print(attr)"
   ]
  },
  {
   "cell_type": "code",
   "execution_count": 25,
   "metadata": {},
   "outputs": [
    {
     "data": {
      "text/plain": [
       "[{'id': 'PR0101A', 'type': 'l', 'text': 'Consumer Price Index (CPI)'},\n",
       " {'id': 'PR0101H',\n",
       "  'type': 'l',\n",
       "  'text': 'Consumer Price Index at constant taxes (CPI-CT)'},\n",
       " {'id': 'PR0101G',\n",
       "  'type': 'l',\n",
       "  'text': 'Consumer Price Index with fixed interest rate (CPIF)'},\n",
       " {'id': 'PR0101I',\n",
       "  'type': 'l',\n",
       "  'text': 'Consumer Price Index with fixed interest rate and at constant taxes (CPIF-CT)'},\n",
       " {'id': 'PR0101J',\n",
       "  'type': 'l',\n",
       "  'text': 'Consumer Price Index with fixed interest rate exclusive energy (CPIF-XE)'},\n",
       " {'id': 'PR0101C',\n",
       "  'type': 'l',\n",
       "  'text': 'Harmonized Index of Consumer Prices (HICP)'},\n",
       " {'id': 'PR0101K',\n",
       "  'type': 'l',\n",
       "  'text': 'Harmonized Consumer Price Index at constant taxes (HICP-CT)'},\n",
       " {'id': 'PR0101E', 'type': 'l', 'text': 'Price Basic Amount'},\n",
       " {'id': 'PR0101F', 'type': 'l', 'text': 'Old tables not updated'},\n",
       " {'id': 'PR0101S', 'type': 'l', 'text': 'Economic indicators'}]"
      ]
     },
     "execution_count": 25,
     "metadata": {},
     "output_type": "execute_result"
    }
   ],
   "source": [
    "SCB('en', 'PR', 'PR0101').info()[]"
   ]
  },
  {
   "cell_type": "code",
   "execution_count": 40,
   "metadata": {},
   "outputs": [
    {
     "data": {
      "text/plain": [
       "[{'id': 'PR0101A', 'type': 'l', 'text': 'Consumer Price Index (CPI)'},\n",
       " {'id': 'PR0101H',\n",
       "  'type': 'l',\n",
       "  'text': 'Consumer Price Index at constant taxes (CPI-CT)'},\n",
       " {'id': 'PR0101G',\n",
       "  'type': 'l',\n",
       "  'text': 'Consumer Price Index with fixed interest rate (CPIF)'},\n",
       " {'id': 'PR0101I',\n",
       "  'type': 'l',\n",
       "  'text': 'Consumer Price Index with fixed interest rate and at constant taxes (CPIF-CT)'},\n",
       " {'id': 'PR0101J',\n",
       "  'type': 'l',\n",
       "  'text': 'Consumer Price Index with fixed interest rate exclusive energy (CPIF-XE)'},\n",
       " {'id': 'PR0101C',\n",
       "  'type': 'l',\n",
       "  'text': 'Harmonized Index of Consumer Prices (HICP)'},\n",
       " {'id': 'PR0101K',\n",
       "  'type': 'l',\n",
       "  'text': 'Harmonized Consumer Price Index at constant taxes (HICP-CT)'},\n",
       " {'id': 'PR0101E', 'type': 'l', 'text': 'Price Basic Amount'},\n",
       " {'id': 'PR0101F', 'type': 'l', 'text': 'Old tables not updated'},\n",
       " {'id': 'PR0101S', 'type': 'l', 'text': 'Economic indicators'}]"
      ]
     },
     "execution_count": 40,
     "metadata": {},
     "output_type": "execute_result"
    }
   ],
   "source": [
    "test = SCB('en', 'PR', 'PR0101').info()\n",
    "\n",
    "test\n"
   ]
  },
  {
   "cell_type": "code",
   "execution_count": null,
   "metadata": {},
   "outputs": [],
   "source": []
  }
 ],
 "metadata": {
  "kernelspec": {
   "display_name": "venv",
   "language": "python",
   "name": "python3"
  },
  "language_info": {
   "codemirror_mode": {
    "name": "ipython",
    "version": 3
   },
   "file_extension": ".py",
   "mimetype": "text/x-python",
   "name": "python",
   "nbconvert_exporter": "python",
   "pygments_lexer": "ipython3",
   "version": "3.9.13"
  },
  "orig_nbformat": 4
 },
 "nbformat": 4,
 "nbformat_minor": 2
}
